{
 "cells": [
  {
   "cell_type": "code",
   "execution_count": 1,
   "metadata": {},
   "outputs": [],
   "source": [
    "from qiskit import * #qiskit\n",
    "from qiskit.visualization import plot_histogram #for plotting histogram\n",
    "import numpy as np # for mathematical computation\n",
    "import matplotlib.pyplot as plt #for plotting graph\n",
    "#%matplotlib inline\n",
    "\n",
    "from qiskit_aer import AerSimulator  # change this to Aer for C++ compiled code and the option to run on the GPU. Or use BasicAer for python providers\n",
    "#from qiskit.algorithms import VQE"
   ]
  },
  {
   "cell_type": "code",
   "execution_count": 2,
   "metadata": {},
   "outputs": [],
   "source": [
    "#from qiskit.opflow import MatrixOp\n",
    "from qiskit.quantum_info import Operator, SparsePauliOp\n",
    "from qiskit.circuit.library import EfficientSU2"
   ]
  },
  {
   "cell_type": "code",
   "execution_count": 3,
   "metadata": {},
   "outputs": [],
   "source": [
    "import numpy as np \n",
    "import matplotlib.pyplot as plt\n",
    "import matplotlib.patches as patches\n",
    "import math\n",
    "from cmath import e\n",
    "from cmath import pi\n",
    "import cmath\n",
    "import sympy as sym\n",
    "from tqdm import tqdm\n",
    "\n",
    "from scipy import sparse\n",
    "from scipy.sparse import csr_matrix\n",
    "\n",
    "from scipy.linalg import expm, logm\n",
    "\n",
    "from scipy.linalg import eig, eigh\n",
    "from scipy.sparse.linalg import eigs, eigsh\n",
    "\n",
    "from scipy.optimize import minimize, Bounds"
   ]
  },
  {
   "cell_type": "code",
   "execution_count": 4,
   "metadata": {},
   "outputs": [],
   "source": [
    "import numpy as np\n",
    "import math\n",
    "import matplotlib.pyplot as plt\n",
    "import quspin\n",
    "import pandas as pd\n",
    "from tqdm import tqdm\n",
    "from scipy.integrate import quad\n",
    "from scipy.optimize import curve_fit\n",
    "import csv\n",
    "import scipy.stats\n",
    "from scipy.linalg import logm, expm\n",
    "\n",
    "from quspin.operators import hamiltonian,exp_op\n",
    "from quspin.basis import spinful_fermion_basis_general\n",
    "from quspin.basis import spin_basis_1d\n",
    "from quspin.basis import spinless_fermion_basis_1d\n",
    "from quspin.basis import tensor_basis\n",
    "from quspin.tools.measurements import ent_entropy\n",
    "\n",
    "from matplotlib import rc\n",
    "\n",
    "\n",
    "from quspin.tools.evolution import evolve\n",
    "from quspin.tools.Floquet import Floquet_t_vec \n",
    "from six import iteritems \n",
    "\n",
    "import time"
   ]
  },
  {
   "cell_type": "code",
   "execution_count": 5,
   "metadata": {},
   "outputs": [
    {
     "data": {
      "text/plain": [
       "'1.3.2'"
      ]
     },
     "execution_count": 5,
     "metadata": {},
     "output_type": "execute_result"
    }
   ],
   "source": [
    "import qiskit\n",
    "qiskit.__version__"
   ]
  },
  {
   "cell_type": "markdown",
   "metadata": {},
   "source": [
    "# Hamiltonian"
   ]
  },
  {
   "cell_type": "code",
   "execution_count": 7,
   "metadata": {},
   "outputs": [],
   "source": [
    "from scipy.sparse import identity\n",
    "import scipy.sparse as sp\n",
    "from scipy.linalg import expm, sqrtm, eigh, eigvalsh\n",
    "from scipy.sparse.linalg import eigsh\n",
    "\n",
    "def H_spin(m, a,g,L):\n",
    "    hop_term=[[0.25/a, j, j+1] for j in range(L-1)]\n",
    "\n",
    "    \n",
    "    hop_mass=[[0.5*m*(-1)**(j+1), j] for j in range(L)]\n",
    "    \n",
    "    hop_zz_g=[[0.25*g/a, j, j+1] for j in range(L-1)]\n",
    "    hop_z1_g=[[0.25*g/a, j] for j in range(L-1)]\n",
    "    hop_z2_g=[[0.25*g/a, j+1] for j in range(L-1)]\n",
    "    ID=[[0.25*(g/a),n] for n in range(L)]\n",
    "        \n",
    "    basis = spin_basis_1d(L)\n",
    "\n",
    "    # Define Hamiltonian\n",
    "    static = [[\"xx\",hop_term],[\"yy\",hop_term], [\"z\", hop_mass], [\"zz\",hop_zz_g],[\"z\",hop_z1_g],[\"z\",hop_z2_g], [\"I\",ID]]\n",
    "    dynamic = []\n",
    "    H = hamiltonian(static,dynamic,basis=basis,dtype=np.complex128,\n",
    "                    check_symm=False,check_herm=False,check_pcon=False)\n",
    "    \n",
    "    # Find ground state and its energy\n",
    "    return H#+((g/a)*0.25*(L-1))*identity(2**L)"
   ]
  },
  {
   "cell_type": "code",
   "execution_count": null,
   "metadata": {},
   "outputs": [],
   "source": []
  },
  {
   "cell_type": "code",
   "execution_count": 12,
   "metadata": {},
   "outputs": [],
   "source": [
    "N = 4\n",
    "\n",
    "a = 0.5\n",
    "m = 1.0\n",
    "g = 1.0"
   ]
  },
  {
   "cell_type": "code",
   "execution_count": null,
   "metadata": {},
   "outputs": [],
   "source": []
  },
  {
   "cell_type": "code",
   "execution_count": 18,
   "metadata": {},
   "outputs": [],
   "source": [
    "Ham = H_spin(m, a, g, N)"
   ]
  },
  {
   "cell_type": "code",
   "execution_count": 20,
   "metadata": {},
   "outputs": [
    {
     "data": {
      "text/plain": [
       "<quspin.operators.hamiltonian:\n",
       "static mat: <Compressed Sparse Row sparse matrix of dtype 'complex128'\n",
       "\twith 40 stored elements and shape (16, 16)>\n",
       "dynamic:>"
      ]
     },
     "execution_count": 20,
     "metadata": {},
     "output_type": "execute_result"
    }
   ],
   "source": [
    "Ham"
   ]
  },
  {
   "cell_type": "code",
   "execution_count": 22,
   "metadata": {},
   "outputs": [],
   "source": [
    "E,V=Ham.eigsh(k=5,which=\"SA\")"
   ]
  },
  {
   "cell_type": "code",
   "execution_count": 24,
   "metadata": {},
   "outputs": [
    {
     "data": {
      "text/plain": [
       "array([-2.34152542, -1.40211303, -0.6755705 ,  0.33600419,  0.5       ])"
      ]
     },
     "execution_count": 24,
     "metadata": {},
     "output_type": "execute_result"
    }
   ],
   "source": [
    "E"
   ]
  },
  {
   "cell_type": "code",
   "execution_count": null,
   "metadata": {},
   "outputs": [],
   "source": []
  },
  {
   "cell_type": "code",
   "execution_count": 27,
   "metadata": {},
   "outputs": [],
   "source": [
    "qubitHam = Operator(Ham.toarray())"
   ]
  },
  {
   "cell_type": "code",
   "execution_count": 29,
   "metadata": {},
   "outputs": [],
   "source": [
    "Ham_qiskit = SparsePauliOp.from_operator(qubitHam, atol=None, rtol=None)"
   ]
  },
  {
   "cell_type": "code",
   "execution_count": 31,
   "metadata": {},
   "outputs": [
    {
     "data": {
      "text/plain": [
       "SparsePauliOp(['IIII', 'IIIZ', 'IIXX', 'IIYY', 'IIZI', 'IIZZ', 'IXXI', 'IYYI', 'IZII', 'IZZI', 'XXII', 'YYII', 'ZZII'],\n",
       "              coeffs=[2. +0.j, 1. +0.j, 0.5+0.j, 0.5-0.j, 0.5+0.j, 0.5+0.j, 0.5+0.j, 0.5-0.j,\n",
       " 1.5+0.j, 0.5+0.j, 0.5+0.j, 0.5-0.j, 0.5+0.j])"
      ]
     },
     "execution_count": 31,
     "metadata": {},
     "output_type": "execute_result"
    }
   ],
   "source": [
    "Ham_qiskit"
   ]
  },
  {
   "cell_type": "code",
   "execution_count": null,
   "metadata": {},
   "outputs": [],
   "source": []
  },
  {
   "cell_type": "code",
   "execution_count": null,
   "metadata": {},
   "outputs": [],
   "source": []
  },
  {
   "cell_type": "code",
   "execution_count": null,
   "metadata": {},
   "outputs": [],
   "source": []
  },
  {
   "cell_type": "code",
   "execution_count": 36,
   "metadata": {},
   "outputs": [],
   "source": [
    "ansatz = EfficientSU2(N, su2_gates=['ry'], entanglement=\"pairwise\", reps=6)\n",
    "#ansatz = EfficientSU2(N, su2_gates=['ry'], entanglement=\"linear\", reps=4)\n",
    "#ansatz = EfficientSU2(N, su2_gates=['ry'], entanglement=\"full\", reps=4)\n",
    "\n",
    "#ansatz = EfficientSU2(N, su2_gates=['ry'], entanglement=\"pairwise\", reps=4)"
   ]
  },
  {
   "cell_type": "code",
   "execution_count": 38,
   "metadata": {},
   "outputs": [
    {
     "data": {
      "image/png": "[encoded data removed]",
      "text/plain": [
       "<Figure size 1708.89x367.889 with 1 Axes>"
      ]
     },
     "execution_count": 38,
     "metadata": {},
     "output_type": "execute_result"
    }
   ],
   "source": [
    "ansatz.decompose().draw('mpl', fold=30)"
   ]
  },
  {
   "cell_type": "code",
   "execution_count": 463,
   "metadata": {
    "scrolled": true
   },
   "outputs": [
    {
     "data": {
      "image/png": "[encoded data removed]",
      "text/plain": [
       "<Figure size 2294.16x367.889 with 1 Axes>"
      ]
     },
     "execution_count": 463,
     "metadata": {},
     "output_type": "execute_result"
    }
   ],
   "source": [
    "ansatz.decompose().draw('mpl', fold=30)"
   ]
  },
  {
   "cell_type": "code",
   "execution_count": 40,
   "metadata": {},
   "outputs": [
    {
     "data": {
      "text/plain": [
       "qiskit.circuit.library.n_local.efficient_su2.EfficientSU2"
      ]
     },
     "execution_count": 40,
     "metadata": {},
     "output_type": "execute_result"
    }
   ],
   "source": [
    "type(ansatz)"
   ]
  },
  {
   "cell_type": "code",
   "execution_count": 42,
   "metadata": {},
   "outputs": [
    {
     "data": {
      "text/plain": [
       "['__abstractmethods__',\n",
       " '__and__',\n",
       " '__class__',\n",
       " '__deepcopy__',\n",
       " '__delattr__',\n",
       " '__dict__',\n",
       " '__dir__',\n",
       " '__doc__',\n",
       " '__eq__',\n",
       " '__format__',\n",
       " '__ge__',\n",
       " '__getattribute__',\n",
       " '__getitem__',\n",
       " '__getstate__',\n",
       " '__gt__',\n",
       " '__hash__',\n",
       " '__iand__',\n",
       " '__init__',\n",
       " '__init_subclass__',\n",
       " '__ixor__',\n",
       " '__le__',\n",
       " '__len__',\n",
       " '__lt__',\n",
       " '__module__',\n",
       " '__ne__',\n",
       " '__new__',\n",
       " '__reduce__',\n",
       " '__reduce_ex__',\n",
       " '__repr__',\n",
       " '__setattr__',\n",
       " '__sizeof__',\n",
       " '__slotnames__',\n",
       " '__slots__',\n",
       " '__str__',\n",
       " '__subclasshook__',\n",
       " '__weakref__',\n",
       " '__xor__',\n",
       " '_abc_impl',\n",
       " '_add_qreg',\n",
       " '_allow_fast_path_parametrization',\n",
       " '_ancillas',\n",
       " '_append',\n",
       " '_append_standard_gate',\n",
       " '_appended_blocks',\n",
       " '_appended_entanglement',\n",
       " '_base_name',\n",
       " '_bounds',\n",
       " '_build',\n",
       " '_build_additional_layers',\n",
       " '_build_entanglement_layer',\n",
       " '_build_rotation_layer',\n",
       " '_builder_api',\n",
       " '_calibrations',\n",
       " '_calibrations_prop',\n",
       " '_cast',\n",
       " '_cbit_argument_conversion',\n",
       " '_check_configuration',\n",
       " '_check_dups',\n",
       " '_clbit_indices',\n",
       " '_cls_instances',\n",
       " '_cls_prefix',\n",
       " '_control_flow_scopes',\n",
       " '_convert_to_block',\n",
       " '_create_creg',\n",
       " '_create_qreg',\n",
       " '_cregs',\n",
       " '_current_scope',\n",
       " '_data',\n",
       " '_duration',\n",
       " '_entanglement',\n",
       " '_entanglement_blocks',\n",
       " '_entangler_maps',\n",
       " '_flatten',\n",
       " '_from_circuit_data',\n",
       " '_has_calibration_for',\n",
       " '_increment_instances',\n",
       " '_initial_state',\n",
       " '_initial_state_circuit',\n",
       " '_insert_barriers',\n",
       " '_invalidate',\n",
       " '_is_built',\n",
       " '_is_initialized',\n",
       " '_layout',\n",
       " '_metadata',\n",
       " '_name_update',\n",
       " '_num_qubits',\n",
       " '_op_start_times',\n",
       " '_ordered_parameters',\n",
       " '_overwrite_block_parameters',\n",
       " '_parameter_generator',\n",
       " '_parameterize_block',\n",
       " '_peek_previous_instruction_in_scope',\n",
       " '_pop_previous_instruction_in_scope',\n",
       " '_pop_scope',\n",
       " '_prepare_new_var',\n",
       " '_prepended_blocks',\n",
       " '_prepended_entanglement',\n",
       " '_push_scope',\n",
       " '_qbit_argument_conversion',\n",
       " '_qregs',\n",
       " '_qubit_indices',\n",
       " '_reps',\n",
       " '_rotation_blocks',\n",
       " '_skip_final_rotation_layer',\n",
       " '_skip_unentangled_qubits',\n",
       " '_unit',\n",
       " '_unroll_param_dict',\n",
       " '_unsorted_parameters',\n",
       " '_vars_capture',\n",
       " '_vars_input',\n",
       " '_vars_local',\n",
       " 'add_bits',\n",
       " 'add_calibration',\n",
       " 'add_capture',\n",
       " 'add_input',\n",
       " 'add_layer',\n",
       " 'add_register',\n",
       " 'add_uninitialized_var',\n",
       " 'add_var',\n",
       " 'ancillas',\n",
       " 'append',\n",
       " 'assign_parameters',\n",
       " 'barrier',\n",
       " 'break_loop',\n",
       " 'calibrations',\n",
       " 'cast',\n",
       " 'cbit_argument_conversion',\n",
       " 'ccx',\n",
       " 'ccz',\n",
       " 'ch',\n",
       " 'clbits',\n",
       " 'clear',\n",
       " 'cls_instances',\n",
       " 'cls_prefix',\n",
       " 'compose',\n",
       " 'continue_loop',\n",
       " 'control',\n",
       " 'copy',\n",
       " 'copy_empty_like',\n",
       " 'count_ops',\n",
       " 'cp',\n",
       " 'cregs',\n",
       " 'crx',\n",
       " 'cry',\n",
       " 'crz',\n",
       " 'cs',\n",
       " 'csdg',\n",
       " 'cswap',\n",
       " 'csx',\n",
       " 'cu',\n",
       " 'cx',\n",
       " 'cy',\n",
       " 'cz',\n",
       " 'data',\n",
       " 'dcx',\n",
       " 'decompose',\n",
       " 'delay',\n",
       " 'depth',\n",
       " 'draw',\n",
       " 'duration',\n",
       " 'ecr',\n",
       " 'entanglement',\n",
       " 'entanglement_blocks',\n",
       " 'find_bit',\n",
       " 'flatten',\n",
       " 'for_loop',\n",
       " 'from_instructions',\n",
       " 'from_qasm_file',\n",
       " 'from_qasm_str',\n",
       " 'get_entangler_map',\n",
       " 'get_instructions',\n",
       " 'get_parameter',\n",
       " 'get_unentangled_qubits',\n",
       " 'get_var',\n",
       " 'global_phase',\n",
       " 'h',\n",
       " 'has_calibration_for',\n",
       " 'has_parameter',\n",
       " 'has_register',\n",
       " 'has_var',\n",
       " 'id',\n",
       " 'if_else',\n",
       " 'if_test',\n",
       " 'initial_state',\n",
       " 'initialize',\n",
       " 'insert_barriers',\n",
       " 'instances',\n",
       " 'inverse',\n",
       " 'iswap',\n",
       " 'iter_captured_vars',\n",
       " 'iter_declared_vars',\n",
       " 'iter_input_vars',\n",
       " 'iter_vars',\n",
       " 'layout',\n",
       " 'mcp',\n",
       " 'mcrx',\n",
       " 'mcry',\n",
       " 'mcrz',\n",
       " 'mcx',\n",
       " 'measure',\n",
       " 'measure_active',\n",
       " 'measure_all',\n",
       " 'metadata',\n",
       " 'ms',\n",
       " 'name',\n",
       " 'num_ancillas',\n",
       " 'num_captured_vars',\n",
       " 'num_clbits',\n",
       " 'num_connected_components',\n",
       " 'num_declared_vars',\n",
       " 'num_input_vars',\n",
       " 'num_layers',\n",
       " 'num_nonlocal_gates',\n",
       " 'num_parameters',\n",
       " 'num_parameters_settable',\n",
       " 'num_qubits',\n",
       " 'num_tensor_factors',\n",
       " 'num_unitary_factors',\n",
       " 'num_vars',\n",
       " 'op_start_times',\n",
       " 'ordered_parameters',\n",
       " 'p',\n",
       " 'parameter_bounds',\n",
       " 'parameters',\n",
       " 'pauli',\n",
       " 'power',\n",
       " 'preferred_init_points',\n",
       " 'prefix',\n",
       " 'prepare_state',\n",
       " 'print_settings',\n",
       " 'qbit_argument_conversion',\n",
       " 'qregs',\n",
       " 'qubit_duration',\n",
       " 'qubit_start_time',\n",
       " 'qubit_stop_time',\n",
       " 'qubits',\n",
       " 'r',\n",
       " 'rcccx',\n",
       " 'rccx',\n",
       " 'remove_final_measurements',\n",
       " 'repeat',\n",
       " 'reps',\n",
       " 'reset',\n",
       " 'reverse_bits',\n",
       " 'reverse_ops',\n",
       " 'rotation_blocks',\n",
       " 'rv',\n",
       " 'rx',\n",
       " 'rxx',\n",
       " 'ry',\n",
       " 'ryy',\n",
       " 'rz',\n",
       " 'rzx',\n",
       " 'rzz',\n",
       " 's',\n",
       " 'save_amplitudes',\n",
       " 'save_amplitudes_squared',\n",
       " 'save_clifford',\n",
       " 'save_density_matrix',\n",
       " 'save_expectation_value',\n",
       " 'save_expectation_value_variance',\n",
       " 'save_matrix_product_state',\n",
       " 'save_probabilities',\n",
       " 'save_probabilities_dict',\n",
       " 'save_stabilizer',\n",
       " 'save_state',\n",
       " 'save_statevector',\n",
       " 'save_statevector_dict',\n",
       " 'save_superop',\n",
       " 'save_unitary',\n",
       " 'sdg',\n",
       " 'set_density_matrix',\n",
       " 'set_matrix_product_state',\n",
       " 'set_stabilizer',\n",
       " 'set_statevector',\n",
       " 'set_superop',\n",
       " 'set_unitary',\n",
       " 'size',\n",
       " 'store',\n",
       " 'swap',\n",
       " 'switch',\n",
       " 'sx',\n",
       " 'sxdg',\n",
       " 't',\n",
       " 'tdg',\n",
       " 'tensor',\n",
       " 'to_gate',\n",
       " 'to_instruction',\n",
       " 'u',\n",
       " 'unit',\n",
       " 'unitary',\n",
       " 'while_loop',\n",
       " 'width',\n",
       " 'x',\n",
       " 'y',\n",
       " 'z']"
      ]
     },
     "execution_count": 42,
     "metadata": {},
     "output_type": "execute_result"
    }
   ],
   "source": [
    "dir(ansatz)"
   ]
  },
  {
   "cell_type": "code",
   "execution_count": 44,
   "metadata": {},
   "outputs": [
    {
     "data": {
      "text/plain": [
       "ParameterView([ParameterVectorElement(θ[0]), ParameterVectorElement(θ[1]), ParameterVectorElement(θ[2]), ParameterVectorElement(θ[3]), ParameterVectorElement(θ[4]), ParameterVectorElement(θ[5]), ParameterVectorElement(θ[6]), ParameterVectorElement(θ[7]), ParameterVectorElement(θ[8]), ParameterVectorElement(θ[9]), ParameterVectorElement(θ[10]), ParameterVectorElement(θ[11]), ParameterVectorElement(θ[12]), ParameterVectorElement(θ[13]), ParameterVectorElement(θ[14]), ParameterVectorElement(θ[15]), ParameterVectorElement(θ[16]), ParameterVectorElement(θ[17]), ParameterVectorElement(θ[18]), ParameterVectorElement(θ[19]), ParameterVectorElement(θ[20]), ParameterVectorElement(θ[21]), ParameterVectorElement(θ[22]), ParameterVectorElement(θ[23]), ParameterVectorElement(θ[24]), ParameterVectorElement(θ[25]), ParameterVectorElement(θ[26]), ParameterVectorElement(θ[27])])"
      ]
     },
     "execution_count": 44,
     "metadata": {},
     "output_type": "execute_result"
    }
   ],
   "source": [
    "ansatz.parameters"
   ]
  },
  {
   "cell_type": "code",
   "execution_count": null,
   "metadata": {},
   "outputs": [],
   "source": []
  },
  {
   "cell_type": "code",
   "execution_count": 46,
   "metadata": {},
   "outputs": [],
   "source": [
    "from qiskit.circuit import ParameterVector, QuantumCircuit"
   ]
  },
  {
   "cell_type": "code",
   "execution_count": 68,
   "metadata": {},
   "outputs": [],
   "source": [
    "# define your parameters\n",
    "p = ParameterVector('p', 3)  \n",
    "\n",
    "circuit = QuantumCircuit(2)\n",
    "circuit.rx(p[0], 0)  # RX(p[0]) on qubit 0\n",
    "circuit.ry(p[1], 0)  # RY(p[1]) on qubit 1\n",
    "circuit.crz(p[2], 0, 1)  # CRZ(p[2]) controlled on qubit 0, acting on qubit 1\n",
    "\n",
    "# bind the values\n",
    "bound_circuit = circuit.assign_parameters({p: [0, 1, 2]})\n",
    "\n",
    "# or for a list of values\n",
    "#values = [ [0, 1, 2], [1, 2, 3], [2, 3, 4] ]\n",
    "#bounds_circuits = [circuit.assign_parameters({p: val for val in values})]"
   ]
  },
  {
   "cell_type": "code",
   "execution_count": 66,
   "metadata": {},
   "outputs": [
    {
     "data": {
      "text/plain": [
       "ParameterView([ParameterVectorElement(p[0]), ParameterVectorElement(p[1]), ParameterVectorElement(p[2])])"
      ]
     },
     "execution_count": 66,
     "metadata": {},
     "output_type": "execute_result"
    }
   ],
   "source": [
    "circuit.parameters"
   ]
  },
  {
   "cell_type": "code",
   "execution_count": null,
   "metadata": {},
   "outputs": [],
   "source": []
  },
  {
   "cell_type": "code",
   "execution_count": null,
   "metadata": {},
   "outputs": [],
   "source": []
  },
  {
   "cell_type": "code",
   "execution_count": null,
   "metadata": {},
   "outputs": [],
   "source": []
  },
  {
   "cell_type": "code",
   "execution_count": 436,
   "metadata": {},
   "outputs": [],
   "source": [
    "x0 = [np.pi/2] * ansatz.num_parameters"
   ]
  },
  {
   "cell_type": "code",
   "execution_count": null,
   "metadata": {},
   "outputs": [],
   "source": []
  },
  {
   "cell_type": "code",
   "execution_count": 439,
   "metadata": {
    "scrolled": true
   },
   "outputs": [
    {
     "data": {
      "text/plain": [
       "[1.5707963267948966,\n",
       " 1.5707963267948966,\n",
       " 1.5707963267948966,\n",
       " 1.5707963267948966,\n",
       " 1.5707963267948966,\n",
       " 1.5707963267948966,\n",
       " 1.5707963267948966,\n",
       " 1.5707963267948966,\n",
       " 1.5707963267948966,\n",
       " 1.5707963267948966,\n",
       " 1.5707963267948966,\n",
       " 1.5707963267948966,\n",
       " 1.5707963267948966,\n",
       " 1.5707963267948966,\n",
       " 1.5707963267948966,\n",
       " 1.5707963267948966,\n",
       " 1.5707963267948966,\n",
       " 1.5707963267948966,\n",
       " 1.5707963267948966,\n",
       " 1.5707963267948966]"
      ]
     },
     "execution_count": 439,
     "metadata": {},
     "output_type": "execute_result"
    }
   ],
   "source": [
    "x0"
   ]
  },
  {
   "cell_type": "code",
   "execution_count": null,
   "metadata": {},
   "outputs": [],
   "source": []
  },
  {
   "cell_type": "code",
   "execution_count": 47,
   "metadata": {},
   "outputs": [
    {
     "data": {
      "text/plain": [
       "28"
      ]
     },
     "execution_count": 47,
     "metadata": {},
     "output_type": "execute_result"
    }
   ],
   "source": [
    "len(x0)"
   ]
  },
  {
   "cell_type": "code",
   "execution_count": null,
   "metadata": {},
   "outputs": [],
   "source": []
  },
  {
   "cell_type": "markdown",
   "metadata": {},
   "source": [
    "# Estimator V1"
   ]
  },
  {
   "cell_type": "code",
   "execution_count": 100,
   "metadata": {},
   "outputs": [],
   "source": [
    "from qiskit.primitives import Estimator # Estimator V1\n",
    "from qiskit_ibm_runtime import QiskitRuntimeService\n",
    "#from qiskit import Aer, BasicAer, assemble\n",
    "#from qiskit_ibm_runtime import Estimator"
   ]
  },
  {
   "cell_type": "code",
   "execution_count": null,
   "metadata": {},
   "outputs": [],
   "source": []
  },
  {
   "cell_type": "code",
   "execution_count": 103,
   "metadata": {},
   "outputs": [
    {
     "name": "stderr",
     "output_type": "stream",
     "text": [
      "C:\\Users\\yukwa\\AppData\\Local\\Temp\\ipykernel_19064\\3976521138.py:2: DeprecationWarning: The class ``qiskit.primitives.estimator.Estimator`` is deprecated as of qiskit 1.2. It will be removed no earlier than 3 months after the release date. All implementations of the `BaseEstimatorV1` interface have been deprecated in favor of their V2 counterparts. The V2 alternative for the `Estimator` class is `StatevectorEstimator`.\n",
      "  estimator_v1 = Estimator()\n"
     ]
    }
   ],
   "source": [
    "backend = AerSimulator()\n",
    "estimator_v1 = Estimator()"
   ]
  },
  {
   "cell_type": "code",
   "execution_count": 105,
   "metadata": {},
   "outputs": [
    {
     "data": {
      "text/plain": [
       "<qiskit.primitives.estimator.Estimator at 0x2214b3c7e90>"
      ]
     },
     "execution_count": 105,
     "metadata": {},
     "output_type": "execute_result"
    }
   ],
   "source": [
    "estimator_v1"
   ]
  },
  {
   "cell_type": "code",
   "execution_count": 107,
   "metadata": {},
   "outputs": [],
   "source": [
    "def costFunctionE1(param, ansatz, Ham, params, expectations):\n",
    "\n",
    "    \n",
    "    \n",
    "    params.append(param)\n",
    "    \n",
    "    start = time.time()\n",
    "    job = estimator_v1.run([ansatz], [Ham], [param])\n",
    "    result = job.result()\n",
    "    exp = result.values[0]\n",
    "    #print('run() time: ', time.time() - start)\n",
    "    \n",
    "        \n",
    "\n",
    "    expectations.append(exp)\n",
    "    \n",
    "    \n",
    "    return exp"
   ]
  },
  {
   "cell_type": "code",
   "execution_count": null,
   "metadata": {},
   "outputs": [],
   "source": []
  },
  {
   "cell_type": "code",
   "execution_count": null,
   "metadata": {},
   "outputs": [],
   "source": []
  },
  {
   "cell_type": "code",
   "execution_count": null,
   "metadata": {},
   "outputs": [],
   "source": []
  },
  {
   "cell_type": "code",
   "execution_count": 109,
   "metadata": {},
   "outputs": [
    {
     "name": "stdout",
     "output_type": "stream",
     "text": [
      "--- minimize() running time: 5.285329103469849 seconds ---\n",
      "\n",
      " message: Maximum number of function evaluations has been exceeded.\n",
      " success: False\n",
      "  status: 2\n",
      "     fun: -2.341524683467629\n",
      "       x: [ 1.442e+00  2.748e+00 ...  1.570e+00  1.608e+00]\n",
      "    nfev: 1000\n",
      "   maxcv: 0.0\n",
      "[1.44243044 2.74788156 3.73316767 2.89252605 1.64980639 1.70959453\n",
      " 2.42097159 1.16557253 2.09381082 2.79662384 1.457571   1.16044081\n",
      " 1.56842396 1.57500946 1.95102644 1.31701695 1.14630675 1.63561103\n",
      " 1.71953459 1.37127272 1.25463629 1.35487233 1.53151696 1.28183637\n",
      " 1.42368574 2.62411017 1.57038164 1.60843304]\n",
      "-2.341524683467629\n"
     ]
    }
   ],
   "source": [
    "params = []\n",
    "expectations = []\n",
    "maxiter = 1000\n",
    "\n",
    "start_time = time.time()\n",
    "result = minimize(costFunctionE1, x0, (ansatz, Ham_qiskit, params, expectations), method='COBYLA', options={'maxiter': maxiter}) # Success [2.71211263, 1.5909917 ]\n",
    "\n",
    "print(\"--- minimize() running time: %s seconds ---\\n\" % (time.time() - start_time))\n",
    "theta = result.x\n",
    "print(result)\n",
    "print(theta)\n",
    "print(result.fun)"
   ]
  },
  {
   "cell_type": "code",
   "execution_count": 110,
   "metadata": {},
   "outputs": [
    {
     "data": {
      "text/plain": [
       "array([-2.34152542, -1.40211303, -0.6755705 ,  0.33600419,  0.5       ])"
      ]
     },
     "execution_count": 110,
     "metadata": {},
     "output_type": "execute_result"
    }
   ],
   "source": [
    "E"
   ]
  },
  {
   "cell_type": "code",
   "execution_count": null,
   "metadata": {},
   "outputs": [],
   "source": []
  },
  {
   "cell_type": "code",
   "execution_count": 114,
   "metadata": {},
   "outputs": [
    {
     "data": {
      "text/plain": [
       "<matplotlib.legend.Legend at 0x221544f5050>"
      ]
     },
     "execution_count": 114,
     "metadata": {},
     "output_type": "execute_result"
    },
    {
     "data": {
      "image/png": "[encoded data removed]",
      "text/plain": [
       "<Figure size 640x480 with 1 Axes>"
      ]
     },
     "metadata": {},
     "output_type": "display_data"
    }
   ],
   "source": [
    "import numpy as np\n",
    "import pylab\n",
    "import matplotlib.pyplot as plt\n",
    "\n",
    "#pylab.rcParams[\"figure.figsize\"] = (12, 8)\n",
    "\n",
    "#steps_np = np.asarray(steps)\n",
    "#counts_np = np.asarray(counts)\n",
    "#values_np = np.asarray(values)\n",
    "\n",
    "#pylab.plot(range(maxiter),expectations[:maxiter], label=f\"Qiskit VQE state\")\n",
    "pylab.plot(range(len(expectations)),expectations, label=f\"Qiskit\")\n",
    "plt.axhline(y=E[0], color='r', linestyle='-.', label=f\"Exact ground state\")\n",
    "\n",
    "pylab.xlabel(\"Eval count\")\n",
    "pylab.ylabel(\"Energy\")\n",
    "#pylab.title(\"Energy convergence for each computed state\")\n",
    "plt.title('N=8, VQE')\n",
    "pylab.legend(loc=\"upper right\")"
   ]
  },
  {
   "cell_type": "code",
   "execution_count": null,
   "metadata": {},
   "outputs": [],
   "source": []
  },
  {
   "cell_type": "code",
   "execution_count": null,
   "metadata": {},
   "outputs": [],
   "source": []
  },
  {
   "cell_type": "code",
   "execution_count": null,
   "metadata": {},
   "outputs": [],
   "source": []
  },
  {
   "cell_type": "code",
   "execution_count": null,
   "metadata": {},
   "outputs": [],
   "source": []
  },
  {
   "cell_type": "code",
   "execution_count": null,
   "metadata": {},
   "outputs": [],
   "source": []
  },
  {
   "cell_type": "code",
   "execution_count": null,
   "metadata": {},
   "outputs": [],
   "source": []
  },
  {
   "cell_type": "code",
   "execution_count": null,
   "metadata": {},
   "outputs": [],
   "source": []
  },
  {
   "cell_type": "code",
   "execution_count": null,
   "metadata": {},
   "outputs": [],
   "source": []
  },
  {
   "cell_type": "code",
   "execution_count": null,
   "metadata": {},
   "outputs": [],
   "source": []
  },
  {
   "cell_type": "code",
   "execution_count": null,
   "metadata": {},
   "outputs": [],
   "source": []
  },
  {
   "cell_type": "markdown",
   "metadata": {},
   "source": [
    "# Estimator V2"
   ]
  },
  {
   "cell_type": "code",
   "execution_count": 107,
   "metadata": {},
   "outputs": [],
   "source": [
    "#from qiskit.primitives import Estimator # Estimator V1\n",
    "from qiskit_ibm_runtime import QiskitRuntimeService\n",
    "\n",
    "from qiskit_aer import AerSimulator\n",
    "#from qiskit_aer.primitives import SamplerV2 as Sampler_aer\n",
    "#from qiskit_aer.primitives import EstimatorV2 as Estimator_aer\n",
    "from qiskit_ibm_runtime import EstimatorV2 as Estimator\n",
    "from qiskit.transpiler.preset_passmanagers import generate_preset_pass_manager\n"
   ]
  },
  {
   "cell_type": "code",
   "execution_count": null,
   "metadata": {},
   "outputs": [],
   "source": []
  },
  {
   "cell_type": "code",
   "execution_count": 169,
   "metadata": {},
   "outputs": [],
   "source": [
    "backend = AerSimulator()\n",
    "estimator_v2 = Estimator(backend)\n",
    "estimator_v2.options.default_shots = 50000"
   ]
  },
  {
   "cell_type": "code",
   "execution_count": null,
   "metadata": {},
   "outputs": [],
   "source": []
  },
  {
   "cell_type": "code",
   "execution_count": 172,
   "metadata": {},
   "outputs": [
    {
     "data": {
      "text/plain": [
       "<qiskit_ibm_runtime.estimator.EstimatorV2 at 0x17a54988910>"
      ]
     },
     "execution_count": 172,
     "metadata": {},
     "output_type": "execute_result"
    }
   ],
   "source": [
    "estimator_v2"
   ]
  },
  {
   "cell_type": "code",
   "execution_count": 174,
   "metadata": {},
   "outputs": [],
   "source": [
    "def costFunctionE2(param, ansatz, Ham, params, expectations):\n",
    "\n",
    "    #estimator = Estimator()\n",
    "    \n",
    "    params.append(param)\n",
    "    \n",
    "    start = time.time()\n",
    "\n",
    "    pm = generate_preset_pass_manager(backend=backend, optimization_level=3)\n",
    "    isa_circuit = pm.run(ansatz)\n",
    "    isa_observable = Ham_qiskit.apply_layout(isa_circuit.layout)\n",
    "    job = estimator_v2.run([(ansatz, Ham, param)])\n",
    "\n",
    "    #job = estimator.run([(ansatz, Ham, param)])\n",
    "    result = job.result()\n",
    "    #print(result)\n",
    "    exp = float(result[0].data.evs)\n",
    "    \n",
    "    #print('run() time: ', time.time() - start)\n",
    "    \n",
    "        \n",
    "\n",
    "    expectations.append(exp)\n",
    "    \n",
    "    \n",
    "    return exp"
   ]
  },
  {
   "cell_type": "code",
   "execution_count": null,
   "metadata": {},
   "outputs": [],
   "source": []
  },
  {
   "cell_type": "code",
   "execution_count": 178,
   "metadata": {},
   "outputs": [
    {
     "data": {
      "text/plain": [
       "2.48284"
      ]
     },
     "execution_count": 178,
     "metadata": {},
     "output_type": "execute_result"
    }
   ],
   "source": [
    "pm = generate_preset_pass_manager(backend=backend, optimization_level=3)\n",
    "isa_circuit = pm.run(ansatz)\n",
    "isa_observable = Ham_qiskit.apply_layout(isa_circuit.layout)\n",
    "costFunctionE2(x0, isa_circuit, isa_observable, [], [])"
   ]
  },
  {
   "cell_type": "code",
   "execution_count": 176,
   "metadata": {},
   "outputs": [
    {
     "data": {
      "text/plain": [
       "-2.3425599999999998"
      ]
     },
     "execution_count": 176,
     "metadata": {},
     "output_type": "execute_result"
    }
   ],
   "source": [
    "pm = generate_preset_pass_manager(backend=backend, optimization_level=3)\n",
    "isa_circuit = pm.run(ansatz)\n",
    "isa_observable = Ham_qiskit.apply_layout(isa_circuit.layout)\n",
    "costFunctionE2(theta, isa_circuit, isa_observable, [], [])"
   ]
  },
  {
   "cell_type": "code",
   "execution_count": null,
   "metadata": {},
   "outputs": [],
   "source": []
  },
  {
   "cell_type": "code",
   "execution_count": 148,
   "metadata": {},
   "outputs": [],
   "source": [
    "x0 = [np.pi/2] * ansatz.num_parameters"
   ]
  },
  {
   "cell_type": "code",
   "execution_count": 180,
   "metadata": {},
   "outputs": [],
   "source": [
    "x0 = theta"
   ]
  },
  {
   "cell_type": "code",
   "execution_count": 182,
   "metadata": {
    "scrolled": true
   },
   "outputs": [
    {
     "data": {
      "text/plain": [
       "array([1.44243044, 2.74788156, 3.73316767, 2.89252605, 1.64980639,\n",
       "       1.70959453, 2.42097159, 1.16557253, 2.09381082, 2.79662384,\n",
       "       1.457571  , 1.16044081, 1.56842396, 1.57500946, 1.95102644,\n",
       "       1.31701695, 1.14630675, 1.63561103, 1.71953459, 1.37127272,\n",
       "       1.25463629, 1.35487233, 1.53151696, 1.28183637, 1.42368574,\n",
       "       2.62411017, 1.57038164, 1.60843304])"
      ]
     },
     "execution_count": 182,
     "metadata": {},
     "output_type": "execute_result"
    }
   ],
   "source": [
    "x0"
   ]
  },
  {
   "cell_type": "code",
   "execution_count": 184,
   "metadata": {
    "scrolled": true
   },
   "outputs": [
    {
     "name": "stdout",
     "output_type": "stream",
     "text": [
      "--- minimize() running time: 321.63297390937805 seconds ---\n",
      "\n",
      " message: Optimization terminated successfully.\n",
      " success: True\n",
      "  status: 1\n",
      "     fun: -2.3317599999999996\n",
      "       x: [ 1.477e+00  2.746e+00 ...  1.572e+00  1.608e+00]\n",
      "    nfev: 882\n",
      "   maxcv: 0.0\n",
      "[1.47654866 2.74585235 3.73491127 2.86575319 1.65744511 1.70484145\n",
      " 2.40840292 1.17224344 2.09247186 2.79658282 1.45737774 1.16207787\n",
      " 1.57168486 1.57338792 1.95170289 1.31652341 1.14577741 1.6380787\n",
      " 1.71660631 1.3703716  1.25478825 1.35552211 1.53462408 1.27969574\n",
      " 1.42283605 2.62396181 1.57169161 1.60774963]\n",
      "-2.3317599999999996\n"
     ]
    }
   ],
   "source": [
    "params = []\n",
    "expectations = []\n",
    "maxiter = 1000\n",
    "\n",
    "start_time = time.time()\n",
    "\n",
    "pm = generate_preset_pass_manager(backend=backend, optimization_level=3)\n",
    "isa_circuit = pm.run(ansatz)\n",
    "isa_observable = Ham_qiskit.apply_layout(isa_circuit.layout)\n",
    "\n",
    "result = minimize(costFunctionE2, x0, (isa_circuit, isa_observable, params, expectations), method='COBYLA', options={'maxiter': maxiter}, tol=1e-20) # Success [2.71211263, 1.5909917 ]\n",
    "#, tol=1e-3\n",
    "\n",
    "print(\"--- minimize() running time: %s seconds ---\\n\" % (time.time() - start_time))\n",
    "theta = result.x\n",
    "print(result)\n",
    "print(theta)\n",
    "print(result.fun)"
   ]
  },
  {
   "cell_type": "code",
   "execution_count": 185,
   "metadata": {},
   "outputs": [
    {
     "data": {
      "text/plain": [
       "array([-2.34152542, -1.40211303, -0.6755705 ,  0.33600419,  0.5       ])"
      ]
     },
     "execution_count": 185,
     "metadata": {},
     "output_type": "execute_result"
    }
   ],
   "source": [
    "E"
   ]
  },
  {
   "cell_type": "code",
   "execution_count": null,
   "metadata": {},
   "outputs": [],
   "source": []
  },
  {
   "cell_type": "code",
   "execution_count": 187,
   "metadata": {},
   "outputs": [
    {
     "data": {
      "text/plain": [
       "<matplotlib.legend.Legend at 0x17a543076d0>"
      ]
     },
     "execution_count": 187,
     "metadata": {},
     "output_type": "execute_result"
    },
    {
     "data": {
      "image/png": "[encoded data removed]",
      "text/plain": [
       "<Figure size 640x480 with 1 Axes>"
      ]
     },
     "metadata": {},
     "output_type": "display_data"
    }
   ],
   "source": [
    "import numpy as np\n",
    "import pylab\n",
    "import matplotlib.pyplot as plt\n",
    "\n",
    "#pylab.rcParams[\"figure.figsize\"] = (12, 8)\n",
    "\n",
    "#steps_np = np.asarray(steps)\n",
    "#counts_np = np.asarray(counts)\n",
    "#values_np = np.asarray(values)\n",
    "\n",
    "#pylab.plot(range(maxiter),expectations[:maxiter], label=f\"Qiskit VQE state\")\n",
    "pylab.plot(range(len(expectations)),expectations, label=f\"Qiskit\")\n",
    "plt.axhline(y=E[0], color='r', linestyle='-.', label=f\"Exact ground state\")\n",
    "\n",
    "pylab.xlabel(\"Eval count\")\n",
    "pylab.ylabel(\"Energy\")\n",
    "#pylab.title(\"Energy convergence for each computed state\")\n",
    "plt.title('N=8, VQE')\n",
    "pylab.legend(loc=\"upper right\")"
   ]
  },
  {
   "cell_type": "code",
   "execution_count": 136,
   "metadata": {},
   "outputs": [
    {
     "name": "stdout",
     "output_type": "stream",
     "text": [
      "Sat Feb  1 22:41:02 2025\n"
     ]
    }
   ],
   "source": [
    "print(time.ctime())"
   ]
  },
  {
   "cell_type": "code",
   "execution_count": null,
   "metadata": {},
   "outputs": [],
   "source": []
  },
  {
   "cell_type": "code",
   "execution_count": null,
   "metadata": {},
   "outputs": [],
   "source": []
  },
  {
   "cell_type": "code",
   "execution_count": null,
   "metadata": {},
   "outputs": [],
   "source": []
  },
  {
   "cell_type": "code",
   "execution_count": null,
   "metadata": {},
   "outputs": [],
   "source": []
  },
  {
   "cell_type": "markdown",
   "metadata": {},
   "source": [
    "# VQD"
   ]
  },
  {
   "cell_type": "code",
   "execution_count": null,
   "metadata": {},
   "outputs": [],
   "source": []
  },
  {
   "cell_type": "code",
   "execution_count": 339,
   "metadata": {},
   "outputs": [],
   "source": [
    "def makeAnsatzFull(N, L, param): \n",
    "    \n",
    "    qr = QuantumRegister(N, 'q')\n",
    "    qc = QuantumCircuit(qr)  \n",
    "    \n",
    "\n",
    "    \n",
    "    for i in range(L):\n",
    "        for k in range(N):\n",
    "            qc.ry(param[k+N*i], qr[k])\n",
    "        \n",
    "        for j in range(N-1):\n",
    "            for k in range(j+1,N):\n",
    "                qc.cx(qr[j], qr[k])\n",
    "\n",
    "                \n",
    "    for k in range(N):\n",
    "        qc.ry(param[k+N*L], qr[k])\n",
    "    \n",
    "    \n",
    "    return qc"
   ]
  },
  {
   "cell_type": "code",
   "execution_count": 341,
   "metadata": {},
   "outputs": [],
   "source": [
    "def makeAnsatzLinear(N, L, param): \n",
    "    \n",
    "    qr = QuantumRegister(N, 'q')\n",
    "    qc = QuantumCircuit(qr)  \n",
    "    \n",
    "\n",
    "    \n",
    "    for i in range(L):\n",
    "        for k in range(N):\n",
    "            qc.ry(param[k+N*i], qr[k])\n",
    "        \n",
    "        for j in range(N-1):\n",
    "            qc.cx(qr[j], qr[j+1])\n",
    "\n",
    "                \n",
    "    for k in range(N):\n",
    "        qc.ry(param[k+N*L], qr[k])\n",
    "    \n",
    "    \n",
    "    return qc"
   ]
  },
  {
   "cell_type": "code",
   "execution_count": null,
   "metadata": {},
   "outputs": [],
   "source": []
  },
  {
   "cell_type": "code",
   "execution_count": null,
   "metadata": {},
   "outputs": [],
   "source": []
  },
  {
   "cell_type": "code",
   "execution_count": 345,
   "metadata": {},
   "outputs": [],
   "source": [
    "simulator = AerSimulator(method='statevector')"
   ]
  },
  {
   "cell_type": "code",
   "execution_count": 347,
   "metadata": {},
   "outputs": [],
   "source": [
    "L = 4\n",
    "#simulator = BasicAer.get_backend(\"statevector_simulator\")\n",
    "\n",
    "def costFunctionVQD(param, ansatz, Ham, k, betas, statevectors, params, expectations):\n",
    "\n",
    "    \n",
    "    estimator = Estimator()\n",
    "    \n",
    "\n",
    "    #service = QiskitRuntimeService()\n",
    "\n",
    "    \n",
    "    params.append(param)\n",
    "    \n",
    "    \n",
    "    #job = estimator.run(ansatz, Ham, param)\n",
    "    job = estimator_v1.run([ansatz], [Ham], [param])\n",
    "    result = job.result()\n",
    "    exp = result.values[0]\n",
    "    \n",
    "    ansatz_time = 0.0\n",
    "    execute_time = 0.0\n",
    "    dot_time = 0.0\n",
    "    \n",
    "    \n",
    "    start = time.time()\n",
    "    qc = makeAnsatzFull(N, L, param)\n",
    "    qc.save_statevector()\n",
    "    #print('makeAnsatz() time: ', time.time() - start)\n",
    "    ansatz_time += time.time() - start\n",
    "\n",
    "    start = time.time()\n",
    "    #job = execute(qc, backend = simulator)\n",
    "    job = simulator.run(qc)\n",
    "    result = job.result()\n",
    "    psi = result.get_statevector(qc)\n",
    "    #print('execute() time: ', time.time() - start)\n",
    "    execute_time += time.time() - start\n",
    "    \n",
    "    \n",
    "    for i in range(k):\n",
    "\n",
    "        start = time.time()\n",
    "        z = np.dot(np.conjugate(np.transpose(psi)), statevectors[i])\n",
    "        norm_sq = np.conjugate(z) * z\n",
    "        exp += betas[i] * norm_sq\n",
    "        #print('inner prodction time: ', time.time() - start)\n",
    "        dot_time += time.time() - start\n",
    "        \n",
    "\n",
    "    #print('ansatz_time: ', ansatz_time)\n",
    "    #print('execute_time: ', execute_time)\n",
    "    #print('dot_time: ', dot_time)\n",
    "        \n",
    "        \n",
    "    expectations.append(exp)\n",
    "    \n",
    "    \n",
    "    return exp"
   ]
  },
  {
   "cell_type": "code",
   "execution_count": null,
   "metadata": {},
   "outputs": [],
   "source": []
  },
  {
   "cell_type": "code",
   "execution_count": 350,
   "metadata": {},
   "outputs": [
    {
     "data": {
      "text/plain": [
       "[33, 33]"
      ]
     },
     "execution_count": 350,
     "metadata": {},
     "output_type": "execute_result"
    }
   ],
   "source": [
    "betas"
   ]
  },
  {
   "cell_type": "code",
   "execution_count": 352,
   "metadata": {},
   "outputs": [
    {
     "data": {
      "text/plain": [
       "<qiskit.primitives.estimator.Estimator at 0x2214b3c7e90>"
      ]
     },
     "execution_count": 352,
     "metadata": {},
     "output_type": "execute_result"
    }
   ],
   "source": [
    "estimator_v1"
   ]
  },
  {
   "cell_type": "code",
   "execution_count": null,
   "metadata": {},
   "outputs": [],
   "source": []
  },
  {
   "cell_type": "code",
   "execution_count": null,
   "metadata": {},
   "outputs": [],
   "source": []
  },
  {
   "cell_type": "code",
   "execution_count": null,
   "metadata": {},
   "outputs": [],
   "source": []
  },
  {
   "cell_type": "code",
   "execution_count": null,
   "metadata": {},
   "outputs": [],
   "source": []
  },
  {
   "cell_type": "code",
   "execution_count": null,
   "metadata": {},
   "outputs": [],
   "source": []
  },
  {
   "cell_type": "code",
   "execution_count": 359,
   "metadata": {},
   "outputs": [],
   "source": [
    "k = 2\n",
    "N = 4\n",
    "L = 4"
   ]
  },
  {
   "cell_type": "code",
   "execution_count": 361,
   "metadata": {},
   "outputs": [],
   "source": [
    "import warnings\n",
    "warnings.filterwarnings('ignore')"
   ]
  },
  {
   "cell_type": "code",
   "execution_count": 443,
   "metadata": {},
   "outputs": [
    {
     "name": "stdout",
     "output_type": "stream",
     "text": [
      "--- Ground State computing time: 25.50986337661743 seconds ---\n",
      "\n",
      "--- 1-th Excited State  time: 7.043506145477295 seconds ---\n",
      "\n",
      "--- 2-th Excited State  time: 6.756081819534302 seconds ---\n",
      "\n",
      "\n",
      "Total running time:  39.31745648384094\n"
     ]
    }
   ],
   "source": [
    "\n",
    "params_list = []\n",
    "expectations_list = []\n",
    "final_exp = []\n",
    "final_param = []\n",
    "psi_list = []\n",
    "maxiter = 5000\n",
    "\n",
    "betas =[]\n",
    "\n",
    "bound = Bounds(lb = -2 * np.pi, ub = 2 * np.pi)\n",
    "\n",
    "total_time = time.time()\n",
    "\n",
    "for i in range(k+1):\n",
    "    params_list.append([])\n",
    "    expectations_list.append([])\n",
    "\n",
    "start_time = time.time()\n",
    "result = minimize(costFunctionE1, x0, (ansatz, Ham_qiskit, params_list[0], expectations_list[0]), method='COBYLA', options={'maxiter': maxiter}, bounds=bound) \n",
    "print(\"--- Ground State computing time: %s seconds ---\\n\" % (time.time() - start_time))\n",
    "final_param.append(result.x)\n",
    "final_exp.append(result.fun)\n",
    "\n",
    "\n",
    "\n",
    "for i in range(k):\n",
    "\n",
    "    betas.append(33)\n",
    "    \n",
    "    qc = makeAnsatzFull(N, L, final_param[i])\n",
    "    qc.save_statevector()\n",
    "    #job = execute(qc, backend = simulator)\n",
    "    job = simulator.run(qc)\n",
    "    result = job.result()\n",
    "    psi_list.append(result.get_statevector(qc))\n",
    "    \n",
    "\n",
    "    start_time = time.time()\n",
    "    result = minimize(costFunctionVQD, x0, (ansatz, Ham_qiskit, i+1, betas, psi_list, params_list[i+1], expectations_list[i+1]), method='SLSQP', options={'maxiter': maxiter}, bounds=bound)\n",
    "    print(f\"--- {i+1}-th Excited State  time: %s seconds ---\\n\" % (time.time() - start_time))\n",
    "\n",
    "    final_param.append(result.x)\n",
    "    final_exp.append(result.fun)\n",
    "\n",
    "\n",
    "print('\\nTotal running time: ', time.time() - total_time)\n",
    "\n"
   ]
  },
  {
   "cell_type": "code",
   "execution_count": 444,
   "metadata": {},
   "outputs": [
    {
     "data": {
      "text/plain": [
       "-2.340597625425363"
      ]
     },
     "execution_count": 444,
     "metadata": {},
     "output_type": "execute_result"
    }
   ],
   "source": [
    "expectations_list[0][-1]"
   ]
  },
  {
   "cell_type": "code",
   "execution_count": 445,
   "metadata": {},
   "outputs": [
    {
     "data": {
      "text/plain": [
       "(-1.4021139616331262+0j)"
      ]
     },
     "execution_count": 445,
     "metadata": {},
     "output_type": "execute_result"
    }
   ],
   "source": [
    "expectations_list[1][-1]"
   ]
  },
  {
   "cell_type": "code",
   "execution_count": 446,
   "metadata": {},
   "outputs": [
    {
     "data": {
      "text/plain": [
       "(-0.6755637511719887+0j)"
      ]
     },
     "execution_count": 446,
     "metadata": {},
     "output_type": "execute_result"
    }
   ],
   "source": [
    "expectations_list[2][-1]"
   ]
  },
  {
   "cell_type": "code",
   "execution_count": null,
   "metadata": {},
   "outputs": [],
   "source": []
  },
  {
   "cell_type": "code",
   "execution_count": null,
   "metadata": {},
   "outputs": [],
   "source": []
  },
  {
   "cell_type": "code",
   "execution_count": null,
   "metadata": {},
   "outputs": [],
   "source": []
  },
  {
   "cell_type": "code",
   "execution_count": 409,
   "metadata": {},
   "outputs": [
    {
     "data": {
      "text/plain": [
       "array([-2.34152542, -1.40211303, -0.6755705 ,  0.33600419,  0.5       ])"
      ]
     },
     "execution_count": 409,
     "metadata": {},
     "output_type": "execute_result"
    }
   ],
   "source": [
    "E"
   ]
  },
  {
   "cell_type": "code",
   "execution_count": null,
   "metadata": {},
   "outputs": [],
   "source": []
  },
  {
   "cell_type": "code",
   "execution_count": null,
   "metadata": {},
   "outputs": [],
   "source": []
  },
  {
   "cell_type": "code",
   "execution_count": 451,
   "metadata": {},
   "outputs": [
    {
     "data": {
      "text/plain": [
       "<matplotlib.legend.Legend at 0x2215c872010>"
      ]
     },
     "execution_count": 451,
     "metadata": {},
     "output_type": "execute_result"
    },
    {
     "data": {
      "image/png": "[encoded data removed]",
      "text/plain": [
       "<Figure size 1200x800 with 1 Axes>"
      ]
     },
     "metadata": {},
     "output_type": "display_data"
    }
   ],
   "source": [
    "import numpy as np\n",
    "import pylab\n",
    "import matplotlib.pyplot as plt\n",
    "\n",
    "pylab.rcParams[\"figure.figsize\"] = (12, 8)\n",
    "\n",
    "#steps_np = np.asarray(steps)\n",
    "#counts_np = np.asarray(counts)\n",
    "#values_np = np.asarray(values)\n",
    "\n",
    "for i in range(1,k+2):\n",
    "    #_counts = counts_np[np.where(steps_np == i)]\n",
    "    #_values = values_np[np.where(steps_np == i)]\n",
    "    pylab.plot(range(len(expectations_list[i-1])),expectations_list[i-1][:maxiter], label=f\"VQD state {i-1}\")\n",
    "    plt.axhline(y=E[i-1], color='r', linestyle='-.', label=f\"Exact state {i-1}\")\n",
    "    #plt.axhline(y=charge_less_E[i-1], color='b', linestyle='--', label=f\"Charge Zero Exact state {i-1}\")\n",
    "\n",
    "pylab.xlabel(\"Eval count\")\n",
    "pylab.ylabel(\"Energy\")\n",
    "plt.ylim((-3,3))\n",
    "pylab.title(\"Qiskit, Energy convergence for each computed state\")\n",
    "pylab.legend(loc=\"upper right\")\n",
    "\n",
    "#plt.savefig(\"VQD_Chargeless.pdf\")"
   ]
  },
  {
   "cell_type": "code",
   "execution_count": null,
   "metadata": {},
   "outputs": [],
   "source": []
  },
  {
   "cell_type": "code",
   "execution_count": 327,
   "metadata": {},
   "outputs": [
    {
     "data": {
      "text/plain": [
       "5000"
      ]
     },
     "execution_count": 327,
     "metadata": {},
     "output_type": "execute_result"
    }
   ],
   "source": [
    "maxiter"
   ]
  },
  {
   "cell_type": "code",
   "execution_count": 331,
   "metadata": {},
   "outputs": [
    {
     "data": {
      "text/plain": [
       "1154"
      ]
     },
     "execution_count": 331,
     "metadata": {},
     "output_type": "execute_result"
    }
   ],
   "source": [
    "len(expectations_list[0])"
   ]
  },
  {
   "cell_type": "code",
   "execution_count": null,
   "metadata": {},
   "outputs": [],
   "source": []
  },
  {
   "cell_type": "code",
   "execution_count": null,
   "metadata": {},
   "outputs": [],
   "source": []
  },
  {
   "cell_type": "code",
   "execution_count": null,
   "metadata": {},
   "outputs": [],
   "source": []
  },
  {
   "cell_type": "code",
   "execution_count": null,
   "metadata": {},
   "outputs": [],
   "source": []
  },
  {
   "cell_type": "code",
   "execution_count": null,
   "metadata": {},
   "outputs": [],
   "source": []
  },
  {
   "cell_type": "code",
   "execution_count": null,
   "metadata": {},
   "outputs": [],
   "source": []
  },
  {
   "cell_type": "code",
   "execution_count": null,
   "metadata": {},
   "outputs": [],
   "source": []
  },
  {
   "cell_type": "code",
   "execution_count": null,
   "metadata": {},
   "outputs": [],
   "source": []
  }
 ],
 "metadata": {
  "kernelspec": {
   "display_name": "Qiskit",
   "language": "python",
   "name": "qiskit"
  },
  "language_info": {
   "codemirror_mode": {
    "name": "ipython",
    "version": 3
   },
   "file_extension": ".py",
   "mimetype": "text/x-python",
   "name": "python",
   "nbconvert_exporter": "python",
   "pygments_lexer": "ipython3",
   "version": "3.11.10"
  }
 },
 "nbformat": 4,
 "nbformat_minor": 4
}
